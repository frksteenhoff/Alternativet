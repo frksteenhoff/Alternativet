{
 "cells": [
  {
   "cell_type": "markdown",
   "metadata": {},
   "source": [
    "# <span style=\"color:darkblue\">Open Data - Folketinget</span>\n",
    "Developing data driven solutions in collaboration with Holger Thorup.\n",
    "\n",
    "----\n",
    "\n",
    "![alt-text](https://www.altinget.dk/images/article/145976/20845.jpg \"Folketinget\")\n",
    "\n",
    "\n",
    "### <span style=\"color:darkblue\">Links</span>\n",
    "* [Open Data Folketinget](http://oda.ft.dk)\n",
    "* [Documentation](http://www.ft.dk/dokumenter/aabne_data)\n",
    "* [DataQuery](http://oda.ft.dk/Home/OdataQuery) (sample queries)\n",
    "\n",
    "If you want to make changes to the code or run it, add it to [repl.it](https://repl.it/languages/python)"
   ]
  },
  {
   "cell_type": "markdown",
   "metadata": {},
   "source": [
    "### <span style=\"color:darkblue\">The data model (description in Danish)</span>\n",
    "**Den helt simple datamodel** du skal starte med hedder\n",
    "* [Sag] 1-*\n",
    "* [Sagstrin] 1-* \n",
    "* [Afstemning]\n",
    "\n",
    "Inner join tabellerne (der ligger meget andet skrammel!). \n",
    "\n",
    "Filtrer [Sag] så typeid eq 3 or 5 og periode id eq 138, 139, 144, 146 (det er folketingsperiode for gældende valgperiode). \n",
    "* Filter kan sættes således `http://oda.ft.dk/api/Sag?$filter=offentlighedskode eq 'O'`\n",
    "\n",
    "Overvej evt. at bruge periodid til at dele datasættet op i træning og prediction.\n",
    "\n",
    "### <span style=\"color:darkblue\">Questions</span>\n",
    "* Why is all `sagstrin` information relevant?\n",
    "  * Adding all `sagstrin` creates a lot of redundant data? \n",
    "* Which fields is it okay to exclude from the final table? (I have given it a shot)\n",
    "* How many rows are expected in the final, joined table?\n",
    "* I have split the data from the `Afstemning` table into several new fields as this makes valueable information easier to access."
   ]
  },
  {
   "cell_type": "markdown",
   "metadata": {},
   "source": [
    "----\n",
    "## <span style=\"color:darkblue\">Code</span>"
   ]
  },
  {
   "cell_type": "markdown",
   "metadata": {},
   "source": [
    "### <span style=\"color:darkblue\">Queries</span>\n",
    "\n",
    "#### Creating query"
   ]
  },
  {
   "cell_type": "code",
   "execution_count": 116,
   "metadata": {
    "collapsed": false
   },
   "outputs": [
    {
     "name": "stdout",
     "output_type": "stream",
     "text": [
      "Request URL sag:\n",
      "http://oda.ft.dk/api/Sag?$filter=typeid%20eq%203%20or%20typeid%20eq%205%20and%20periodeid%20eq%20138%20or%20periodeid%20eq%20139%20or%20periodeid%20eq%20144%20or%20periodeid%20eq%20146\n",
      "Request URL sagstrin:\n",
      "http://oda.ft.dk/api/Sag?$filter=typeid%20eq%203%20or%20typeid%20eq%205&$expand=Sagstrin\n"
     ]
    }
   ],
   "source": [
    "# IMPORTS\n",
    "import re\n",
    "import urllib2\n",
    "import json\n",
    "import numpy as np\n",
    "import pandas as pd\n",
    "\n",
    "\n",
    "# FILTER CRITERIA VALUES\n",
    "typeids   = [3,5]\n",
    "periodids = [138, 139, 144, 146] \n",
    "\n",
    "\n",
    "# CREATE REQUEST STRING\n",
    "# filters string creation could definitely be improved, not prioritized\n",
    "baseurl  = 'http://oda.ft.dk/api/'\n",
    "sag      = 'Sag?'\n",
    "expand   = '&$expand=Sagstrin'\n",
    "filter1  = '$filter=typeid eq {} or typeid eq {}'.format(typeids[0], typeids[1]).replace(\" \", \"%20\")\n",
    "filter2  = ' and periodeid eq {} or periodeid eq {} or periodeid eq {} or periodeid eq {}'.format(periodids[0],periodids[1],periodids[2],periodids[3]).replace(\" \", \"%20\")\n",
    "\n",
    "\n",
    "request_sag      = baseurl + sag + filter1 + filter2\n",
    "request_sagstrin = baseurl + sag + filter1 + expand\n",
    "print 'Request URL sag:\\n' + request_sag\n",
    "print 'Request URL sagstrin:\\n' + request_sagstrin"
   ]
  },
  {
   "cell_type": "markdown",
   "metadata": {},
   "source": [
    "### <span style=\"color:darkblue\">Function for fetching all data from ODA</span>\n",
    "OData will be fetching 20 rows at a time. As we want all data, we need to fetch data in chunks and add delta to the final object, next link found in `odata.nextLink`"
   ]
  },
  {
   "cell_type": "code",
   "execution_count": 67,
   "metadata": {
    "collapsed": false
   },
   "outputs": [],
   "source": [
    "# Function for continuous fetching of data from URL \n",
    "# URL      - the initial url to fetch data from\n",
    "# filename - where to save the json object\n",
    "def repeatedFetchOfODA(URL, filename):\n",
    "    response = urllib2.urlopen(URL)\n",
    "    data = json.load(response) \n",
    "    temp_data = data\n",
    "    i = 1\n",
    "    rowsInAll = 0\n",
    "        \n",
    "    # For each link to new page, add content to json string\n",
    "    try:\n",
    "        while data['odata.nextLink'] != KeyError:\n",
    "            response = urllib2.urlopen(temp_data['odata.nextLink'])\n",
    "            temp_data = json.load(response)\n",
    "            for row in temp_data['value']:\n",
    "                data['value'].append(row)\n",
    "            i = i + 1\n",
    "    except KeyError:\n",
    "        print \"All data read\"\n",
    "        \n",
    "    # Counting number of records fetched\n",
    "    rowsInAll = 20 * i\n",
    "    print 'Records in all: ', rowsInAll\n",
    "\n",
    "    with open(filename, 'w') as f:\n",
    "        json.dump(data, f)\n",
    "    print \"All data saved to {}\".format(filename)"
   ]
  },
  {
   "cell_type": "markdown",
   "metadata": {},
   "source": [
    "#### Fetching sas data"
   ]
  },
  {
   "cell_type": "code",
   "execution_count": 10,
   "metadata": {
    "collapsed": false
   },
   "outputs": [
    {
     "name": "stdout",
     "output_type": "stream",
     "text": [
      "All data read\n",
      "Records in all:  7720\n",
      "All data saved to sag2.json\n"
     ]
    }
   ],
   "source": [
    "#repeatedFetchOfODA(request_sag, 'sag2.json')"
   ]
  },
  {
   "cell_type": "markdown",
   "metadata": {},
   "source": [
    "#### Fetching sag/sagstrin data"
   ]
  },
  {
   "cell_type": "code",
   "execution_count": 117,
   "metadata": {
    "collapsed": false
   },
   "outputs": [
    {
     "name": "stdout",
     "output_type": "stream",
     "text": [
      "All data read\n",
      "Records in all:  5440\n",
      "All data saved to trin.json\n"
     ]
    }
   ],
   "source": [
    "repeatedFetchOfODA(request_sagstrin, 'trin.json')"
   ]
  },
  {
   "cell_type": "markdown",
   "metadata": {},
   "source": [
    "#### Fetching Poll result data\n",
    "\n",
    "As the query is so simple, no query string is created separately."
   ]
  },
  {
   "cell_type": "code",
   "execution_count": 11,
   "metadata": {
    "collapsed": false
   },
   "outputs": [
    {
     "name": "stdout",
     "output_type": "stream",
     "text": [
      "All data read\n",
      "Records in all:  1780\n",
      "All data saved to poll.json\n"
     ]
    }
   ],
   "source": [
    "repeatedFetchOfODA('http://oda.ft.dk/api/Afstemning?', 'poll.json')"
   ]
  },
  {
   "cell_type": "markdown",
   "metadata": {},
   "source": [
    "----\n",
    "## <span style=\"color:darkblue\">Getting data on the right form</span>\n",
    "In order to work with the data, i will convert it from `json` to a `pandas` dataframe."
   ]
  },
  {
   "cell_type": "markdown",
   "metadata": {},
   "source": [
    "### <span style=\"color:darkblue\">Reading poll data into dataframe</span>"
   ]
  },
  {
   "cell_type": "code",
   "execution_count": 111,
   "metadata": {
    "collapsed": false
   },
   "outputs": [
    {
     "data": {
      "text/html": [
       "<div>\n",
       "<style>\n",
       "    .dataframe thead tr:only-child th {\n",
       "        text-align: right;\n",
       "    }\n",
       "\n",
       "    .dataframe thead th {\n",
       "        text-align: left;\n",
       "    }\n",
       "\n",
       "    .dataframe tbody tr th {\n",
       "        vertical-align: top;\n",
       "    }\n",
       "</style>\n",
       "<table border=\"1\" class=\"dataframe\">\n",
       "  <thead>\n",
       "    <tr style=\"text-align: right;\">\n",
       "      <th></th>\n",
       "      <th>id</th>\n",
       "      <th>kommentar</th>\n",
       "      <th>konklusion</th>\n",
       "      <th>mødeid</th>\n",
       "      <th>nummer</th>\n",
       "      <th>opdateringsdato</th>\n",
       "      <th>sagstrinid</th>\n",
       "      <th>vedtaget</th>\n",
       "    </tr>\n",
       "  </thead>\n",
       "  <tbody>\n",
       "    <tr>\n",
       "      <th>0</th>\n",
       "      <td>1</td>\n",
       "      <td>None</td>\n",
       "      <td>Vedtaget\\n\\n108 stemmer for forslaget (V, S, D...</td>\n",
       "      <td>17</td>\n",
       "      <td>411</td>\n",
       "      <td>2014-09-09T09:05:59.653</td>\n",
       "      <td>NaN</td>\n",
       "      <td>True</td>\n",
       "    </tr>\n",
       "    <tr>\n",
       "      <th>1</th>\n",
       "      <td>2</td>\n",
       "      <td>None</td>\n",
       "      <td>Vedtaget\\n\\n98 stemmer for forslaget (V, S, DF...</td>\n",
       "      <td>18</td>\n",
       "      <td>412</td>\n",
       "      <td>2014-09-09T09:25:05.717</td>\n",
       "      <td>4849.0</td>\n",
       "      <td>True</td>\n",
       "    </tr>\n",
       "    <tr>\n",
       "      <th>2</th>\n",
       "      <td>5</td>\n",
       "      <td></td>\n",
       "      <td>Vedtaget\\n\\n98 stemmer for forslaget (V, S, DF...</td>\n",
       "      <td>18</td>\n",
       "      <td>412</td>\n",
       "      <td>2017-08-10T12:57:52.27</td>\n",
       "      <td>4849.0</td>\n",
       "      <td>True</td>\n",
       "    </tr>\n",
       "    <tr>\n",
       "      <th>3</th>\n",
       "      <td>6</td>\n",
       "      <td></td>\n",
       "      <td>\\nVedtaget\\n\\n104 stemmer for forslaget (V, S,...</td>\n",
       "      <td>15</td>\n",
       "      <td>410</td>\n",
       "      <td>2017-08-10T12:57:52.257</td>\n",
       "      <td>16581.0</td>\n",
       "      <td>True</td>\n",
       "    </tr>\n",
       "    <tr>\n",
       "      <th>4</th>\n",
       "      <td>7</td>\n",
       "      <td></td>\n",
       "      <td>\\n          Forkastet\\n\\n          4 stemmer f...</td>\n",
       "      <td>962</td>\n",
       "      <td>408</td>\n",
       "      <td>2017-08-10T12:57:52.247</td>\n",
       "      <td>3311.0</td>\n",
       "      <td>False</td>\n",
       "    </tr>\n",
       "  </tbody>\n",
       "</table>\n",
       "</div>"
      ],
      "text/plain": [
       "   id kommentar                                         konklusion  mødeid  \\\n",
       "0   1      None  Vedtaget\\n\\n108 stemmer for forslaget (V, S, D...      17   \n",
       "1   2      None  Vedtaget\\n\\n98 stemmer for forslaget (V, S, DF...      18   \n",
       "2   5            Vedtaget\\n\\n98 stemmer for forslaget (V, S, DF...      18   \n",
       "3   6            \\nVedtaget\\n\\n104 stemmer for forslaget (V, S,...      15   \n",
       "4   7            \\n          Forkastet\\n\\n          4 stemmer f...     962   \n",
       "\n",
       "   nummer          opdateringsdato  sagstrinid  vedtaget  \n",
       "0     411  2014-09-09T09:05:59.653         NaN      True  \n",
       "1     412  2014-09-09T09:25:05.717      4849.0      True  \n",
       "2     412   2017-08-10T12:57:52.27      4849.0      True  \n",
       "3     410  2017-08-10T12:57:52.257     16581.0      True  \n",
       "4     408  2017-08-10T12:57:52.247      3311.0     False  "
      ]
     },
     "execution_count": 111,
     "metadata": {},
     "output_type": "execute_result"
    }
   ],
   "source": [
    "# Loading json from file\n",
    "with open('poll.json') as json_data:\n",
    "    poll_data = json.load(json_data)\n",
    "    \n",
    "poll_df = pd.DataFrame.from_dict(poll_data[\"value\"])\n",
    "poll_df = poll_df.drop(['typeid'], axis=1)\n",
    "poll_df.head()"
   ]
  },
  {
   "cell_type": "markdown",
   "metadata": {},
   "source": [
    "### <span style=\"color:darkblue\">Grooming Data</span> \n",
    "#### Splitting column `konklusion` into 5 new columns \n",
    "* `for` - votes for (int)\n",
    "* `partiesFor` - parties in parantheses (string)\n",
    "* `against` - votes against (int)\n",
    "* `partiesAgainst` - parties in paranthesis (string)\n",
    "* `neither` - votes neither for nor against (int)\n",
    "\n",
    "#### Description of information extraction\n",
    "Getting the number of votes for -- the second element of the split list (entries shown above)\n",
    "* `'for':       s[2].split(\"\\n\\n\")[1].split(\" \")[0]`\n",
    "\n",
    "Getting the list of parties voting for -- if any, listed after the word \"forslaget\" (entries shown above)\n",
    "* `'partiesFor':       s[2].split(\"\\n\\n\")[1].split\"forslaget\")[len(s[2].split(\"\\n\\n\")[1].split('forslaget'))-1]`\n",
    "\n",
    "Getting the number of votes against -- the third element of the split list (entries above)\n",
    "* `'against':   s[2].split(\"\\n\\n\")[2].split(\" \")[0]`\n",
    "\n",
    "Getting the list of parties voting against -- if any, listed after the word \"forslaget\" (entries above)\n",
    "* `'partiesAgainst':   s[2].split(\"\\n\\n\")[2].split(\"forslaget\")[len(s[2].split(\"\\n\\n\")[2].split('forslaget'))-1]`\n",
    "\n",
    "Getting the number neither for nor against -- the third element of the split list (entries shown above)\n",
    "* `'neither':   s[2].split(\"\\n\\n\")[3].split(\" \")[0]`\n"
   ]
  },
  {
   "cell_type": "code",
   "execution_count": 112,
   "metadata": {
    "collapsed": false
   },
   "outputs": [
    {
     "name": "stdout",
     "output_type": "stream",
     "text": [
      "Observations before removal:  1774\n",
      "Observations after removal of rows not containing newline:  1770\n",
      "Observations after removal of return characters:  1768\n"
     ]
    }
   ],
   "source": [
    "## Removing bad entries from data\n",
    "print \"Observations before removal: \", len(poll_df)\n",
    "poll_df = poll_df[poll_df.konklusion.str.contains('\\n')]\n",
    "print \"Observations after removal of rows not containing newline: \", len(poll_df)\n",
    "#poll_df = poll_df[poll_df.konklusion.str.replace('\\r','')]\n",
    "poll_df = poll_df[~poll_df.konklusion.str.contains('\\r')]\n",
    "print \"Observations after removal of return characters: \", len(poll_df)\n",
    "\n",
    "# Creating new columns \n",
    "new_cols = poll_df.apply(lambda s: \n",
    "                        pd.Series({'for':            s[2].split(\"\\n\\n\")[1].split(\" \")[0], \n",
    "                                   'partiesFor':     s[2].split(\"\\n\\n\")[1].split(\"forslaget\")[len(s[2].split(\"\\n\\n\")[1].split('forslaget'))-1],\n",
    "                                   'against':        s[2].split(\"\\n\\n\")[2].split(\" \")[0],\n",
    "                                   'partiesAgainst': s[2].split(\"\\n\\n\")[2].split(\"forslaget\")[len(s[2].split(\"\\n\\n\")[2].split('forslaget'))-1],\n",
    "                                   'neither':        s[2].split(\"\\n\\n\")[3].split(\" \")[0],}), axis=1)"
   ]
  },
  {
   "cell_type": "code",
   "execution_count": 113,
   "metadata": {
    "collapsed": false
   },
   "outputs": [
    {
     "data": {
      "text/html": [
       "<div>\n",
       "<style>\n",
       "    .dataframe thead tr:only-child th {\n",
       "        text-align: right;\n",
       "    }\n",
       "\n",
       "    .dataframe thead th {\n",
       "        text-align: left;\n",
       "    }\n",
       "\n",
       "    .dataframe tbody tr th {\n",
       "        vertical-align: top;\n",
       "    }\n",
       "</style>\n",
       "<table border=\"1\" class=\"dataframe\">\n",
       "  <thead>\n",
       "    <tr style=\"text-align: right;\">\n",
       "      <th></th>\n",
       "      <th>kommentar</th>\n",
       "      <th>konklusion</th>\n",
       "      <th>mødeid</th>\n",
       "      <th>nummer</th>\n",
       "      <th>opdateringsdato</th>\n",
       "      <th>sagstrinid</th>\n",
       "      <th>vedtaget</th>\n",
       "      <th>against</th>\n",
       "      <th>for</th>\n",
       "      <th>neither</th>\n",
       "      <th>partiesAgainst</th>\n",
       "      <th>partiesFor</th>\n",
       "    </tr>\n",
       "    <tr>\n",
       "      <th>id</th>\n",
       "      <th></th>\n",
       "      <th></th>\n",
       "      <th></th>\n",
       "      <th></th>\n",
       "      <th></th>\n",
       "      <th></th>\n",
       "      <th></th>\n",
       "      <th></th>\n",
       "      <th></th>\n",
       "      <th></th>\n",
       "      <th></th>\n",
       "      <th></th>\n",
       "    </tr>\n",
       "  </thead>\n",
       "  <tbody>\n",
       "    <tr>\n",
       "      <th>1</th>\n",
       "      <td>None</td>\n",
       "      <td>Vedtaget\\n\\n108 stemmer for forslaget (V, S, D...</td>\n",
       "      <td>17</td>\n",
       "      <td>411</td>\n",
       "      <td>2014-09-09T09:05:59.653</td>\n",
       "      <td>NaN</td>\n",
       "      <td>True</td>\n",
       "      <td>0</td>\n",
       "      <td>108</td>\n",
       "      <td>0</td>\n",
       "      <td></td>\n",
       "      <td>(V, S, DF, RV, SF, EL, LA, KF, UFG)</td>\n",
       "    </tr>\n",
       "    <tr>\n",
       "      <th>2</th>\n",
       "      <td>None</td>\n",
       "      <td>Vedtaget\\n\\n98 stemmer for forslaget (V, S, DF...</td>\n",
       "      <td>18</td>\n",
       "      <td>412</td>\n",
       "      <td>2014-09-09T09:25:05.717</td>\n",
       "      <td>4849.0</td>\n",
       "      <td>True</td>\n",
       "      <td>10</td>\n",
       "      <td>98</td>\n",
       "      <td>0</td>\n",
       "      <td>(LA, KF)</td>\n",
       "      <td>(V, S, DF, RV, SF, EL)</td>\n",
       "    </tr>\n",
       "    <tr>\n",
       "      <th>5</th>\n",
       "      <td></td>\n",
       "      <td>Vedtaget\\n\\n98 stemmer for forslaget (V, S, DF...</td>\n",
       "      <td>18</td>\n",
       "      <td>412</td>\n",
       "      <td>2017-08-10T12:57:52.27</td>\n",
       "      <td>4849.0</td>\n",
       "      <td>True</td>\n",
       "      <td>10</td>\n",
       "      <td>98</td>\n",
       "      <td>0</td>\n",
       "      <td>(LA, KF)</td>\n",
       "      <td>(V, S, DF, RV, SF, EL)</td>\n",
       "    </tr>\n",
       "    <tr>\n",
       "      <th>6</th>\n",
       "      <td></td>\n",
       "      <td>\\nVedtaget\\n\\n104 stemmer for forslaget (V, S,...</td>\n",
       "      <td>15</td>\n",
       "      <td>410</td>\n",
       "      <td>2017-08-10T12:57:52.257</td>\n",
       "      <td>16581.0</td>\n",
       "      <td>True</td>\n",
       "      <td>0</td>\n",
       "      <td>104</td>\n",
       "      <td>0</td>\n",
       "      <td></td>\n",
       "      <td>(V, S, DF, RV, SF, EL, LA, KF, UFG)</td>\n",
       "    </tr>\n",
       "    <tr>\n",
       "      <th>7</th>\n",
       "      <td></td>\n",
       "      <td>\\n          Forkastet\\n\\n          4 stemmer f...</td>\n",
       "      <td>962</td>\n",
       "      <td>408</td>\n",
       "      <td>2017-08-10T12:57:52.247</td>\n",
       "      <td>3311.0</td>\n",
       "      <td>False</td>\n",
       "      <td></td>\n",
       "      <td></td>\n",
       "      <td></td>\n",
       "      <td>(S, RV, SF, EL)</td>\n",
       "      <td>(KF)</td>\n",
       "    </tr>\n",
       "  </tbody>\n",
       "</table>\n",
       "</div>"
      ],
      "text/plain": [
       "   kommentar                                         konklusion  mødeid  \\\n",
       "id                                                                        \n",
       "1       None  Vedtaget\\n\\n108 stemmer for forslaget (V, S, D...      17   \n",
       "2       None  Vedtaget\\n\\n98 stemmer for forslaget (V, S, DF...      18   \n",
       "5             Vedtaget\\n\\n98 stemmer for forslaget (V, S, DF...      18   \n",
       "6             \\nVedtaget\\n\\n104 stemmer for forslaget (V, S,...      15   \n",
       "7             \\n          Forkastet\\n\\n          4 stemmer f...     962   \n",
       "\n",
       "    nummer          opdateringsdato  sagstrinid  vedtaget against  for  \\\n",
       "id                                                                       \n",
       "1      411  2014-09-09T09:05:59.653         NaN      True       0  108   \n",
       "2      412  2014-09-09T09:25:05.717      4849.0      True      10   98   \n",
       "5      412   2017-08-10T12:57:52.27      4849.0      True      10   98   \n",
       "6      410  2017-08-10T12:57:52.257     16581.0      True       0  104   \n",
       "7      408  2017-08-10T12:57:52.247      3311.0     False                \n",
       "\n",
       "   neither    partiesAgainst                            partiesFor  \n",
       "id                                                                  \n",
       "1        0                     (V, S, DF, RV, SF, EL, LA, KF, UFG)  \n",
       "2        0          (LA, KF)                (V, S, DF, RV, SF, EL)  \n",
       "5        0          (LA, KF)                (V, S, DF, RV, SF, EL)  \n",
       "6        0                     (V, S, DF, RV, SF, EL, LA, KF, UFG)  \n",
       "7            (S, RV, SF, EL)                                  (KF)  "
      ]
     },
     "execution_count": 113,
     "metadata": {},
     "output_type": "execute_result"
    }
   ],
   "source": [
    "# Remove old konklusion column from poll_df\n",
    "# setting id as index for merge\n",
    "final_poll = pd.concat([poll_df, new_cols], axis=1)\n",
    "final_poll = final_poll.set_index('id')\n",
    "final_poll.head()"
   ]
  },
  {
   "cell_type": "code",
   "execution_count": 56,
   "metadata": {
    "collapsed": false
   },
   "outputs": [],
   "source": [
    "# Saving data to file\n",
    "writer = pd.ExcelWriter('Poll.xlsx')\n",
    "final_poll.to_excel(writer,'Poll')\n",
    "writer.save()"
   ]
  },
  {
   "cell_type": "markdown",
   "metadata": {},
   "source": [
    "### <span style=\"color:darkblue\">Reading sag/sagstrin data to dataframe</span>"
   ]
  },
  {
   "cell_type": "code",
   "execution_count": 140,
   "metadata": {
    "collapsed": false
   },
   "outputs": [
    {
     "data": {
      "text/html": [
       "<div>\n",
       "<style>\n",
       "    .dataframe thead tr:only-child th {\n",
       "        text-align: right;\n",
       "    }\n",
       "\n",
       "    .dataframe thead th {\n",
       "        text-align: left;\n",
       "    }\n",
       "\n",
       "    .dataframe tbody tr th {\n",
       "        vertical-align: top;\n",
       "    }\n",
       "</style>\n",
       "<table border=\"1\" class=\"dataframe\">\n",
       "  <thead>\n",
       "    <tr style=\"text-align: right;\">\n",
       "      <th></th>\n",
       "      <th>Sagstrin</th>\n",
       "      <th>resume</th>\n",
       "      <th>statsbudgetsag</th>\n",
       "      <th>titel</th>\n",
       "      <th>typeid</th>\n",
       "      <th>periodeid</th>\n",
       "    </tr>\n",
       "    <tr>\n",
       "      <th>id</th>\n",
       "      <th></th>\n",
       "      <th></th>\n",
       "      <th></th>\n",
       "      <th></th>\n",
       "      <th></th>\n",
       "      <th></th>\n",
       "    </tr>\n",
       "  </thead>\n",
       "  <tbody>\n",
       "    <tr>\n",
       "      <th>27235</th>\n",
       "      <td>[{u'typeid': 31, u'folketingstidendesidenummer...</td>\n",
       "      <td>Med lovforslaget gennemføres en refusionsrefor...</td>\n",
       "      <td>False</td>\n",
       "      <td>Forslag til lov om kommunernes finansiering af...</td>\n",
       "      <td>3</td>\n",
       "      <td>138</td>\n",
       "    </tr>\n",
       "    <tr>\n",
       "      <th>27236</th>\n",
       "      <td>[{u'typeid': 31, u'folketingstidendesidenummer...</td>\n",
       "      <td>Lovforslaget handler om harmonisering af regle...</td>\n",
       "      <td>True</td>\n",
       "      <td>Forslag til lov om ændring af lov om social pe...</td>\n",
       "      <td>3</td>\n",
       "      <td>138</td>\n",
       "    </tr>\n",
       "    <tr>\n",
       "      <th>27237</th>\n",
       "      <td>[{u'typeid': 31, u'folketingstidendesidenummer...</td>\n",
       "      <td>Formålet med lovforslaget er at give nytilkomn...</td>\n",
       "      <td>True</td>\n",
       "      <td>Forslag til lov om ændring af lov om aktiv soc...</td>\n",
       "      <td>3</td>\n",
       "      <td>138</td>\n",
       "    </tr>\n",
       "    <tr>\n",
       "      <th>27238</th>\n",
       "      <td>[{u'typeid': 31, u'folketingstidendesidenummer...</td>\n",
       "      <td>Med lovforslaget genindføres boligjobordningen...</td>\n",
       "      <td>False</td>\n",
       "      <td>Forslag til lov om ændring af ligningsloven. (...</td>\n",
       "      <td>3</td>\n",
       "      <td>138</td>\n",
       "    </tr>\n",
       "    <tr>\n",
       "      <th>27239</th>\n",
       "      <td>[{u'typeid': 31, u'folketingstidendesidenummer...</td>\n",
       "      <td>Med lovforslaget foreslås en initial tilpasnin...</td>\n",
       "      <td>False</td>\n",
       "      <td>Forslag til lov om ændring af lov om kommunal ...</td>\n",
       "      <td>3</td>\n",
       "      <td>138</td>\n",
       "    </tr>\n",
       "  </tbody>\n",
       "</table>\n",
       "</div>"
      ],
      "text/plain": [
       "                                                Sagstrin  \\\n",
       "id                                                         \n",
       "27235  [{u'typeid': 31, u'folketingstidendesidenummer...   \n",
       "27236  [{u'typeid': 31, u'folketingstidendesidenummer...   \n",
       "27237  [{u'typeid': 31, u'folketingstidendesidenummer...   \n",
       "27238  [{u'typeid': 31, u'folketingstidendesidenummer...   \n",
       "27239  [{u'typeid': 31, u'folketingstidendesidenummer...   \n",
       "\n",
       "                                                  resume  statsbudgetsag  \\\n",
       "id                                                                         \n",
       "27235  Med lovforslaget gennemføres en refusionsrefor...           False   \n",
       "27236  Lovforslaget handler om harmonisering af regle...            True   \n",
       "27237  Formålet med lovforslaget er at give nytilkomn...            True   \n",
       "27238  Med lovforslaget genindføres boligjobordningen...           False   \n",
       "27239  Med lovforslaget foreslås en initial tilpasnin...           False   \n",
       "\n",
       "                                                   titel  typeid  periodeid  \n",
       "id                                                                           \n",
       "27235  Forslag til lov om kommunernes finansiering af...       3        138  \n",
       "27236  Forslag til lov om ændring af lov om social pe...       3        138  \n",
       "27237  Forslag til lov om ændring af lov om aktiv soc...       3        138  \n",
       "27238  Forslag til lov om ændring af ligningsloven. (...       3        138  \n",
       "27239  Forslag til lov om ændring af lov om kommunal ...       3        138  "
      ]
     },
     "execution_count": 140,
     "metadata": {},
     "output_type": "execute_result"
    }
   ],
   "source": [
    "# Loading json from file\n",
    "with open('trin.json') as json_data:\n",
    "    trin_data = json.load(json_data)\n",
    "trin_df = pd.DataFrame.from_dict(trin_data[\"value\"])\n",
    "trin_df = trin_df.set_index('id')\n",
    "trin_df = trin_df[['Sagstrin','resume','statsbudgetsag','titel','typeid','periodeid']]\n",
    "trin_df = trin_df[trin_df.periodeid.isin(periodids)]\n",
    "trin_df = trin_df[trin_df.typeid.isin(typeids)]\n",
    "\n",
    "trin_df.head()"
   ]
  },
  {
   "cell_type": "code",
   "execution_count": 164,
   "metadata": {
    "collapsed": false
   },
   "outputs": [
    {
     "data": {
      "text/html": [
       "<div>\n",
       "<style>\n",
       "    .dataframe thead tr:only-child th {\n",
       "        text-align: right;\n",
       "    }\n",
       "\n",
       "    .dataframe thead th {\n",
       "        text-align: left;\n",
       "    }\n",
       "\n",
       "    .dataframe tbody tr th {\n",
       "        vertical-align: top;\n",
       "    }\n",
       "</style>\n",
       "<table border=\"1\" class=\"dataframe\">\n",
       "  <thead>\n",
       "    <tr style=\"text-align: right;\">\n",
       "      <th></th>\n",
       "      <th>sagid</th>\n",
       "      <th>id</th>\n",
       "      <th>titel</th>\n",
       "    </tr>\n",
       "  </thead>\n",
       "  <tbody>\n",
       "    <tr>\n",
       "      <th>0</th>\n",
       "      <td>27235</td>\n",
       "      <td>66966</td>\n",
       "      <td>Fremsættelse</td>\n",
       "    </tr>\n",
       "    <tr>\n",
       "      <th>1</th>\n",
       "      <td>27235</td>\n",
       "      <td>66967</td>\n",
       "      <td>Lovforslag som fremsat</td>\n",
       "    </tr>\n",
       "    <tr>\n",
       "      <th>2</th>\n",
       "      <td>27235</td>\n",
       "      <td>66968</td>\n",
       "      <td>1. behandling</td>\n",
       "    </tr>\n",
       "    <tr>\n",
       "      <th>3</th>\n",
       "      <td>27235</td>\n",
       "      <td>66969</td>\n",
       "      <td>Frist for spørgsmål</td>\n",
       "    </tr>\n",
       "    <tr>\n",
       "      <th>4</th>\n",
       "      <td>27235</td>\n",
       "      <td>66970</td>\n",
       "      <td>Frist for svar</td>\n",
       "    </tr>\n",
       "  </tbody>\n",
       "</table>\n",
       "</div>"
      ],
      "text/plain": [
       "   sagid     id                   titel\n",
       "0  27235  66966            Fremsættelse\n",
       "1  27235  66967  Lovforslag som fremsat\n",
       "2  27235  66968           1. behandling\n",
       "3  27235  66969     Frist for spørgsmål\n",
       "4  27235  66970          Frist for svar"
      ]
     },
     "execution_count": 164,
     "metadata": {},
     "output_type": "execute_result"
    }
   ],
   "source": [
    "# Creating dataframe of only sagstrin\n",
    "lst = []\n",
    "\n",
    "for value in trin_df.index.values:\n",
    "    for i in range(0,len(trin_df['Sagstrin'][value])): \n",
    "        lst.append([trin_df['Sagstrin'][value][i]['sagid'], trin_df['Sagstrin'][value][i]['id'], trin_df['Sagstrin'][value][i]['titel']])\n",
    "        \n",
    "trin = pd.DataFrame(lst, columns=['sagid','id','titel'])\n",
    "trin.head()"
   ]
  },
  {
   "cell_type": "code",
   "execution_count": null,
   "metadata": {
    "collapsed": true
   },
   "outputs": [],
   "source": []
  },
  {
   "cell_type": "markdown",
   "metadata": {},
   "source": [
    "### <span style=\"color:darkblue\">Reading sag data to dataframe</span>"
   ]
  },
  {
   "cell_type": "code",
   "execution_count": 130,
   "metadata": {
    "collapsed": false
   },
   "outputs": [],
   "source": [
    "# Loading json from file\n",
    "#with open('sag2.json') as json_data:\n",
    "#    sag_data = json.load(json_data)#\n",
    "\n",
    "#sag_df = pd.DataFrame.from_dict(sag_data[\"value\"])\n",
    "# Remove all observations where period id not in periodids\n",
    "#sag_df = sag_df[sag_df.periodeid.isin(periodids)]\n",
    "#sag_df = sag_df[sag_df.typeid.isin(typeids)]\n",
    "\n",
    "# Trim columns\n",
    "#sag_df = sag_df[['resume','statsbudgetsag','titel','typeid']]\n",
    "#sag_df.head()"
   ]
  },
  {
   "cell_type": "code",
   "execution_count": 131,
   "metadata": {
    "collapsed": false
   },
   "outputs": [],
   "source": [
    "# Saving data to file\n",
    "#writer = pd.ExcelWriter('Sag.xlsx')\n",
    "#sag_df.to_excel(writer,'Sag')\n",
    "#writer.save()"
   ]
  },
  {
   "cell_type": "markdown",
   "metadata": {
    "collapsed": true
   },
   "source": [
    "## <span style=\"color:darkblue\">Final dataset</span>\n",
    "### <span style=\"color:darkblue\">Inner joining the three tables</span>"
   ]
  },
  {
   "cell_type": "code",
   "execution_count": 114,
   "metadata": {
    "collapsed": false
   },
   "outputs": [
    {
     "data": {
      "text/html": [
       "<div>\n",
       "<style>\n",
       "    .dataframe thead tr:only-child th {\n",
       "        text-align: right;\n",
       "    }\n",
       "\n",
       "    .dataframe thead th {\n",
       "        text-align: left;\n",
       "    }\n",
       "\n",
       "    .dataframe tbody tr th {\n",
       "        vertical-align: top;\n",
       "    }\n",
       "</style>\n",
       "<table border=\"1\" class=\"dataframe\">\n",
       "  <thead>\n",
       "    <tr style=\"text-align: right;\">\n",
       "      <th></th>\n",
       "      <th>resume</th>\n",
       "      <th>statsbudgetsag</th>\n",
       "      <th>titel</th>\n",
       "      <th>typeid</th>\n",
       "      <th>kommentar</th>\n",
       "      <th>konklusion</th>\n",
       "      <th>mødeid</th>\n",
       "      <th>nummer</th>\n",
       "      <th>opdateringsdato</th>\n",
       "      <th>sagstrinid</th>\n",
       "      <th>vedtaget</th>\n",
       "      <th>against</th>\n",
       "      <th>for</th>\n",
       "      <th>neither</th>\n",
       "      <th>partiesAgainst</th>\n",
       "      <th>partiesFor</th>\n",
       "    </tr>\n",
       "  </thead>\n",
       "  <tbody>\n",
       "    <tr>\n",
       "      <th>2731</th>\n",
       "      <td>Med folketingsbeslutningen pålægges regeringen...</td>\n",
       "      <td>False</td>\n",
       "      <td>Forslag til folketingsbeslutning om gennemføre...</td>\n",
       "      <td>5</td>\n",
       "      <td>None</td>\n",
       "      <td>Forkastet\\n\\n24 stemmer for forslaget (EL, ALT...</td>\n",
       "      <td>5012</td>\n",
       "      <td>89</td>\n",
       "      <td>2015-12-16T20:32:40.18</td>\n",
       "      <td>67974.0</td>\n",
       "      <td>False</td>\n",
       "      <td>56</td>\n",
       "      <td>24</td>\n",
       "      <td>30</td>\n",
       "      <td>(DF, V, LA, KF)</td>\n",
       "      <td>(EL, ALT, RV, SF)</td>\n",
       "    </tr>\n",
       "    <tr>\n",
       "      <th>2847</th>\n",
       "      <td>Lovforslaget fastlægger og præciserer regler p...</td>\n",
       "      <td>False</td>\n",
       "      <td>Forslag til lov om ændring af sundhedsloven. (...</td>\n",
       "      <td>3</td>\n",
       "      <td>None</td>\n",
       "      <td>Vedtaget\\n\\n88 stemmer for forslaget (S, DF, V...</td>\n",
       "      <td>5259</td>\n",
       "      <td>205</td>\n",
       "      <td>2015-12-21T09:17:45.327</td>\n",
       "      <td>69517.0</td>\n",
       "      <td>True</td>\n",
       "      <td>12</td>\n",
       "      <td>88</td>\n",
       "      <td>9</td>\n",
       "      <td>(LA, KF)</td>\n",
       "      <td>(S, DF, V, ALT, RV, SF)</td>\n",
       "    </tr>\n",
       "    <tr>\n",
       "      <th>3247</th>\n",
       "      <td>Med forslaget foreslås, at udlændinge-, integr...</td>\n",
       "      <td>False</td>\n",
       "      <td>Forslag til lov om ændring af udlændingeloven....</td>\n",
       "      <td>3</td>\n",
       "      <td>None</td>\n",
       "      <td>Forkastet\\n\\n54 stemmer for forslaget (S, EL, ...</td>\n",
       "      <td>7286</td>\n",
       "      <td>10</td>\n",
       "      <td>2016-11-22T14:33:28.603</td>\n",
       "      <td>174499.0</td>\n",
       "      <td>False</td>\n",
       "      <td>55</td>\n",
       "      <td>54</td>\n",
       "      <td>0</td>\n",
       "      <td>(DF, V, LA, KF)</td>\n",
       "      <td>(S, EL, ALT, RV, SF)</td>\n",
       "    </tr>\n",
       "    <tr>\n",
       "      <th>3248</th>\n",
       "      <td>Med lovforslaget får udlændinge-, integrations...</td>\n",
       "      <td>False</td>\n",
       "      <td>Forslag til lov om ændring af integrationslove...</td>\n",
       "      <td>3</td>\n",
       "      <td>None</td>\n",
       "      <td>Vedtaget\\n\\n55 stemmer for forslaget (DF, V, L...</td>\n",
       "      <td>7288</td>\n",
       "      <td>11</td>\n",
       "      <td>2016-11-24T10:01:32.297</td>\n",
       "      <td>174501.0</td>\n",
       "      <td>True</td>\n",
       "      <td>52</td>\n",
       "      <td>55</td>\n",
       "      <td>0</td>\n",
       "      <td>(S, EL, ALT, RV, SF)</td>\n",
       "      <td>(DF, V, LA, KF)</td>\n",
       "    </tr>\n",
       "    <tr>\n",
       "      <th>3254</th>\n",
       "      <td>Formålet med beslutningsforslaget er at pålægg...</td>\n",
       "      <td>False</td>\n",
       "      <td>Forslag til folketingsbeslutning om midlertidi...</td>\n",
       "      <td>5</td>\n",
       "      <td>None</td>\n",
       "      <td>Vedtaget\\n\\n111 stemmer for forslaget (S, DF, ...</td>\n",
       "      <td>7157</td>\n",
       "      <td>17</td>\n",
       "      <td>2016-12-01T10:56:12.347</td>\n",
       "      <td>174721.0</td>\n",
       "      <td>True</td>\n",
       "      <td>0</td>\n",
       "      <td>111</td>\n",
       "      <td>0</td>\n",
       "      <td></td>\n",
       "      <td>(S, DF, V, EL, LA, ALT, RV, SF, KF)</td>\n",
       "    </tr>\n",
       "  </tbody>\n",
       "</table>\n",
       "</div>"
      ],
      "text/plain": [
       "                                                 resume  statsbudgetsag  \\\n",
       "2731  Med folketingsbeslutningen pålægges regeringen...           False   \n",
       "2847  Lovforslaget fastlægger og præciserer regler p...           False   \n",
       "3247  Med forslaget foreslås, at udlændinge-, integr...           False   \n",
       "3248  Med lovforslaget får udlændinge-, integrations...           False   \n",
       "3254  Formålet med beslutningsforslaget er at pålægg...           False   \n",
       "\n",
       "                                                  titel  typeid kommentar  \\\n",
       "2731  Forslag til folketingsbeslutning om gennemføre...       5      None   \n",
       "2847  Forslag til lov om ændring af sundhedsloven. (...       3      None   \n",
       "3247  Forslag til lov om ændring af udlændingeloven....       3      None   \n",
       "3248  Forslag til lov om ændring af integrationslove...       3      None   \n",
       "3254  Forslag til folketingsbeslutning om midlertidi...       5      None   \n",
       "\n",
       "                                             konklusion  mødeid  nummer  \\\n",
       "2731  Forkastet\\n\\n24 stemmer for forslaget (EL, ALT...    5012      89   \n",
       "2847  Vedtaget\\n\\n88 stemmer for forslaget (S, DF, V...    5259     205   \n",
       "3247  Forkastet\\n\\n54 stemmer for forslaget (S, EL, ...    7286      10   \n",
       "3248  Vedtaget\\n\\n55 stemmer for forslaget (DF, V, L...    7288      11   \n",
       "3254  Vedtaget\\n\\n111 stemmer for forslaget (S, DF, ...    7157      17   \n",
       "\n",
       "              opdateringsdato  sagstrinid  vedtaget against  for neither  \\\n",
       "2731   2015-12-16T20:32:40.18     67974.0     False      56   24      30   \n",
       "2847  2015-12-21T09:17:45.327     69517.0      True      12   88       9   \n",
       "3247  2016-11-22T14:33:28.603    174499.0     False      55   54       0   \n",
       "3248  2016-11-24T10:01:32.297    174501.0      True      52   55       0   \n",
       "3254  2016-12-01T10:56:12.347    174721.0      True       0  111       0   \n",
       "\n",
       "             partiesAgainst                            partiesFor  \n",
       "2731        (DF, V, LA, KF)                     (EL, ALT, RV, SF)  \n",
       "2847               (LA, KF)               (S, DF, V, ALT, RV, SF)  \n",
       "3247        (DF, V, LA, KF)                  (S, EL, ALT, RV, SF)  \n",
       "3248   (S, EL, ALT, RV, SF)                       (DF, V, LA, KF)  \n",
       "3254                          (S, DF, V, EL, LA, ALT, RV, SF, KF)  "
      ]
     },
     "execution_count": 114,
     "metadata": {},
     "output_type": "execute_result"
    }
   ],
   "source": [
    "# Starting out only with the first two tables (each sagstrin not included)\n",
    "joined_df = pd.merge(trin_df, final_poll, left_index=True, right_index=True)\n",
    "joined_df.head()"
   ]
  },
  {
   "cell_type": "code",
   "execution_count": 98,
   "metadata": {
    "collapsed": false
   },
   "outputs": [],
   "source": [
    "# Saving data to file\n",
    "writer = pd.ExcelWriter('JoinedTable.xlsx')\n",
    "joined_df.to_excel(writer,'Joined')\n",
    "writer.save()"
   ]
  },
  {
   "cell_type": "code",
   "execution_count": null,
   "metadata": {
    "collapsed": true
   },
   "outputs": [],
   "source": []
  }
 ],
 "metadata": {
  "anaconda-cloud": {},
  "kernelspec": {
   "display_name": "Python [py27]",
   "language": "python",
   "name": "Python [py27]"
  }
 },
 "nbformat": 4,
 "nbformat_minor": 2
}
