{
 "cells": [
  {
   "cell_type": "markdown",
   "metadata": {},
   "source": [
    "# Open Data - Folketinget\n",
    "Developing data driven solutions in collaboration with Holger Thorup, Alternativet.\n",
    "\n",
    "----\n",
    "\n",
    "### Links\n",
    "* [Open Data Folketinget](http://oda.ft.dk)\n",
    "* [Documentation](http://www.ft.dk/dokumenter/aabne_data)\n",
    "* [DataQuery](http://oda.ft.dk/Home/OdataQuery) (the shit)"
   ]
  },
  {
   "cell_type": "markdown",
   "metadata": {},
   "source": [
    "----\n",
    "## Code\n",
    "### Imports"
   ]
  },
  {
   "cell_type": "code",
   "execution_count": 1,
   "metadata": {
    "collapsed": false
   },
   "outputs": [],
   "source": [
    "import re\n",
    "import urllib2\n",
    "import json\n",
    "import numpy as np\n",
    "import pandas as pd"
   ]
  },
  {
   "cell_type": "markdown",
   "metadata": {},
   "source": [
    "### The data model (description in Danish)\n",
    "**Den helt simple datamodel** du skal starte med hedder\n",
    "* [Sag] 1-*\n",
    "* [Sagstrin] 1-* \n",
    "* [Afstemning], \n",
    "\n",
    "Inner join tabellerne (der ligger meget andet skrammel!). \n",
    "\n",
    "Filtrer [Sag] så typeid eq 3 or 5 og periode id eq 138, 139, 144, 146 (det er folketingsperiode for gældende valgperiode). \n",
    "* Filter kan sættes således `http://oda.ft.dk/api/Sag?$filter=offentlighedskode eq 'O'`\n",
    "\n",
    "Kan umiddelbart ikke nestes/udvides med flere subqueries.\n",
    "\n",
    "Overvej evt. at bruge periodid til at dele datasættet op i træning og prediction.\n",
    "\n",
    "### Fetching Sag, Sagstrin data\n",
    "\n",
    "#### Creating query"
   ]
  },
  {
   "cell_type": "code",
   "execution_count": 79,
   "metadata": {
    "collapsed": false
   },
   "outputs": [
    {
     "name": "stdout",
     "output_type": "stream",
     "text": [
      "Requested URL:\n",
      "http://oda.ft.dk/api/Sag?$expand=Sagstrin&$filter=typeid%20eq%203%20or%20typeid%20eq%205%20and%20periodeid%20eq%20138%20or%20periodeid%20eq%20139%20or%20periodeid%20eq%20144%20or%20periodeid%20eq%20146\n"
     ]
    }
   ],
   "source": [
    "# Create request string\n",
    "typeids   = [3,5]\n",
    "periodids = [138, 139, 144, 146] \n",
    "\n",
    "# Wanted URL format\n",
    "# 'http://oda.ft.dk/api/Sag?$expand=Sagstrin&$filter=typeid eq 3 or typeide eq 5'\n",
    "# filters could definitely be improved, not prioritized\n",
    "baseurl = 'http://oda.ft.dk/api/'\n",
    "table   = 'Sag?'\n",
    "expand  = '$expand=Sagstrin&'\n",
    "filter1 = '$filter=typeid eq {} or typeid eq {}'.format(typeids[0], typeids[1]).replace(\" \", \"%20\")\n",
    "filter2 = ' and periodeid eq {} or periodeid eq {} or periodeid eq {} or periodeid eq {}'.format(periodids[0],periodids[1],periodids[2],periodids[3]).replace(\" \", \"%20\")\n",
    "\n",
    "request = baseurl + table + expand + filter1 + filter2\n",
    "print 'Requested URL:\\n' + request\n",
    "\n",
    "response = urllib2.urlopen(request)"
   ]
  },
  {
   "cell_type": "markdown",
   "metadata": {},
   "source": [
    "Will be fetching 20 rows at a time, need to fetch data in chunks and add delta to final table, next link found in `odata.nextLink`"
   ]
  },
  {
   "cell_type": "code",
   "execution_count": null,
   "metadata": {
    "collapsed": true
   },
   "outputs": [],
   "source": [
    "# Pretty print of output\n",
    "#print json.dumps(data, indent=4, sort_keys=True)"
   ]
  },
  {
   "cell_type": "markdown",
   "metadata": {},
   "source": [
    "### Function for fetching all data from ODA"
   ]
  },
  {
   "cell_type": "code",
   "execution_count": null,
   "metadata": {
    "collapsed": true
   },
   "outputs": [],
   "source": [
    "# Function for continuous fetching of data from URL \n",
    "# URL      - the initial url to fetch data from\n",
    "# filename - where to save the json object\n",
    "def repeatedFetchOfODA(URL, filename):\n",
    "    response = urllib2.urlopen(URL)\n",
    "    data = json.load(response) \n",
    "    i = 1\n",
    "    temp_data = data\n",
    "    rowsInAll = 0\n",
    "        \n",
    "    try:\n",
    "        while data['odata.nextLink'] != KeyError:\n",
    "            response = urllib2.urlopen(temp_data['odata.nextLink'])\n",
    "            temp_data = json.load(response)\n",
    "            data.update(temp_data)\n",
    "            i = i + 1\n",
    "    except KeyError:\n",
    "        \n",
    "        # Counting number of records fetched\n",
    "        rowsInAll = 20 * i\n",
    "        print 'Records in all: ', rowsInAll\n",
    "\n",
    "        with open(filename, 'w') as f:\n",
    "            json.dump(data, f)\n",
    "        print \"All data saved to {}\".format(filename)"
   ]
  },
  {
   "cell_type": "markdown",
   "metadata": {},
   "source": [
    "#### Fetching sag/sagstrin data"
   ]
  },
  {
   "cell_type": "code",
   "execution_count": 128,
   "metadata": {
    "collapsed": false
   },
   "outputs": [
    {
     "name": "stdout",
     "output_type": "stream",
     "text": [
      "Records in all:  7720\n",
      "All data saved to sag.json\n"
     ]
    }
   ],
   "source": [
    "repeatedFetchOfODA(request, 'sag.json')"
   ]
  },
  {
   "cell_type": "markdown",
   "metadata": {},
   "source": [
    "#### Fetching Poll result data\n",
    "\n",
    "As the query is so simple, no query string is created separately."
   ]
  },
  {
   "cell_type": "code",
   "execution_count": 127,
   "metadata": {
    "collapsed": false
   },
   "outputs": [
    {
     "name": "stdout",
     "output_type": "stream",
     "text": [
      "Records in all:  1780\n",
      "All data saved to poll.json\n"
     ]
    }
   ],
   "source": [
    "repeatedFetchOfODA('http://oda.ft.dk/api/Afstemning?', 'poll.json')"
   ]
  },
  {
   "cell_type": "code",
   "execution_count": null,
   "metadata": {
    "collapsed": true
   },
   "outputs": [],
   "source": []
  }
 ],
 "metadata": {
  "anaconda-cloud": {},
  "kernelspec": {
   "display_name": "Python [py27]",
   "language": "python",
   "name": "Python [py27]"
  },
  "language_info": {
   "codemirror_mode": {
    "name": "ipython",
    "version": 2
   },
   "file_extension": ".py",
   "mimetype": "text/x-python",
   "name": "python",
   "nbconvert_exporter": "python",
   "pygments_lexer": "ipython2",
   "version": "2.7.13"
  }
 },
 "nbformat": 4,
 "nbformat_minor": 2
}
